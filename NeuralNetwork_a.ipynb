{
 "cells": [
  {
   "cell_type": "code",
   "execution_count": 14,
   "metadata": {},
   "outputs": [],
   "source": [
    "library(neuralnet)\n",
    "library(ggplot2)\n",
    "library(nnet)\n",
    "library(dplyr)\n",
    "library(reshape2)"
   ]
  },
  {
   "cell_type": "code",
   "execution_count": 15,
   "metadata": {},
   "outputs": [],
   "source": [
    "library(caret)"
   ]
  },
  {
   "cell_type": "code",
   "execution_count": 16,
   "metadata": {},
   "outputs": [],
   "source": [
    "df<- read.csv(file = \"C:/q4.csv\",header = TRUE,sep = \",\")"
   ]
  },
  {
   "cell_type": "code",
   "execution_count": 17,
   "metadata": {},
   "outputs": [],
   "source": [
    "labels <- class.ind(as.factor(df$Class))"
   ]
  },
  {
   "cell_type": "code",
   "execution_count": 18,
   "metadata": {},
   "outputs": [],
   "source": [
    "f <- as.formula(\"unowned + owned ~ x + y\")"
   ]
  },
  {
   "cell_type": "code",
   "execution_count": 19,
   "metadata": {},
   "outputs": [],
   "source": [
    "standardiser <- function(x){\n",
    "  (x-min(x))/(max(x)-min(x))\n",
    "}"
   ]
  },
  {
   "cell_type": "code",
   "execution_count": 20,
   "metadata": {},
   "outputs": [],
   "source": [
    "df[, 1:2] <- lapply(df[, 1:2], standardiser)"
   ]
  },
  {
   "cell_type": "code",
   "execution_count": 21,
   "metadata": {},
   "outputs": [],
   "source": [
    "pre_process_class <- cbind(df[,1:2], labels)"
   ]
  },
  {
   "cell_type": "code",
   "execution_count": 22,
   "metadata": {},
   "outputs": [
    {
     "data": {
      "text/html": [
       "<table>\n",
       "<thead><tr><th scope=col>x</th><th scope=col>y</th><th scope=col>owned</th><th scope=col>unowned</th></tr></thead>\n",
       "<tbody>\n",
       "\t<tr><td>1.00000000</td><td>0.2       </td><td>0         </td><td>1         </td></tr>\n",
       "\t<tr><td>0.66666667</td><td>0.4       </td><td>0         </td><td>1         </td></tr>\n",
       "\t<tr><td>0.05555556</td><td>0.2       </td><td>1         </td><td>0         </td></tr>\n",
       "\t<tr><td>0.16666667</td><td>0.0       </td><td>0         </td><td>1         </td></tr>\n",
       "\t<tr><td>0.22222222</td><td>0.8       </td><td>1         </td><td>0         </td></tr>\n",
       "\t<tr><td>0.55555556</td><td>0.5       </td><td>1         </td><td>0         </td></tr>\n",
       "\t<tr><td>0.00000000</td><td>0.4       </td><td>1         </td><td>0         </td></tr>\n",
       "\t<tr><td>0.55555556</td><td>0.8       </td><td>1         </td><td>0         </td></tr>\n",
       "\t<tr><td>0.72222222</td><td>0.0       </td><td>0         </td><td>1         </td></tr>\n",
       "\t<tr><td>1.00000000</td><td>1.0       </td><td>1         </td><td>0         </td></tr>\n",
       "</tbody>\n",
       "</table>\n"
      ],
      "text/latex": [
       "\\begin{tabular}{r|llll}\n",
       " x & y & owned & unowned\\\\\n",
       "\\hline\n",
       "\t 1.00000000 & 0.2        & 0          & 1         \\\\\n",
       "\t 0.66666667 & 0.4        & 0          & 1         \\\\\n",
       "\t 0.05555556 & 0.2        & 1          & 0         \\\\\n",
       "\t 0.16666667 & 0.0        & 0          & 1         \\\\\n",
       "\t 0.22222222 & 0.8        & 1          & 0         \\\\\n",
       "\t 0.55555556 & 0.5        & 1          & 0         \\\\\n",
       "\t 0.00000000 & 0.4        & 1          & 0         \\\\\n",
       "\t 0.55555556 & 0.8        & 1          & 0         \\\\\n",
       "\t 0.72222222 & 0.0        & 0          & 1         \\\\\n",
       "\t 1.00000000 & 1.0        & 1          & 0         \\\\\n",
       "\\end{tabular}\n"
      ],
      "text/markdown": [
       "\n",
       "x | y | owned | unowned | \n",
       "|---|---|---|---|---|---|---|---|---|---|\n",
       "| 1.00000000 | 0.2        | 0          | 1          | \n",
       "| 0.66666667 | 0.4        | 0          | 1          | \n",
       "| 0.05555556 | 0.2        | 1          | 0          | \n",
       "| 0.16666667 | 0.0        | 0          | 1          | \n",
       "| 0.22222222 | 0.8        | 1          | 0          | \n",
       "| 0.55555556 | 0.5        | 1          | 0          | \n",
       "| 0.00000000 | 0.4        | 1          | 0          | \n",
       "| 0.55555556 | 0.8        | 1          | 0          | \n",
       "| 0.72222222 | 0.0        | 0          | 1          | \n",
       "| 1.00000000 | 1.0        | 1          | 0          | \n",
       "\n",
       "\n"
      ],
      "text/plain": [
       "   x          y   owned unowned\n",
       "1  1.00000000 0.2 0     1      \n",
       "2  0.66666667 0.4 0     1      \n",
       "3  0.05555556 0.2 1     0      \n",
       "4  0.16666667 0.0 0     1      \n",
       "5  0.22222222 0.8 1     0      \n",
       "6  0.55555556 0.5 1     0      \n",
       "7  0.00000000 0.4 1     0      \n",
       "8  0.55555556 0.8 1     0      \n",
       "9  0.72222222 0.0 0     1      \n",
       "10 1.00000000 1.0 1     0      "
      ]
     },
     "metadata": {},
     "output_type": "display_data"
    }
   ],
   "source": [
    "pre_process_class"
   ]
  },
  {
   "cell_type": "code",
   "execution_count": 23,
   "metadata": {},
   "outputs": [],
   "source": [
    "f <- as.formula(\"unowned + owned ~ x + y\")"
   ]
  },
  {
   "cell_type": "code",
   "execution_count": 24,
   "metadata": {},
   "outputs": [],
   "source": [
    "class_net <- neuralnet(f, data =  pre_process_class, hidden = 1, act.fct = \"tanh\", linear.output = FALSE)"
   ]
  },
  {
   "cell_type": "code",
   "execution_count": 25,
   "metadata": {},
   "outputs": [],
   "source": [
    "plot(class_net)"
   ]
  },
  {
   "cell_type": "code",
   "execution_count": 26,
   "metadata": {},
   "outputs": [
    {
     "data": {
      "text/html": [
       "<table>\n",
       "<tbody>\n",
       "\t<tr><th scope=row>error</th><td>  0.020772441</td></tr>\n",
       "\t<tr><th scope=row>reached.threshold</th><td>  0.009658347</td></tr>\n",
       "\t<tr><th scope=row>steps</th><td>459.000000000</td></tr>\n",
       "\t<tr><th scope=row>Intercept.to.1layhid1</th><td>  0.379241125</td></tr>\n",
       "\t<tr><th scope=row>x.to.1layhid1</th><td> 10.376677956</td></tr>\n",
       "\t<tr><th scope=row>y.to.1layhid1</th><td>-14.901278933</td></tr>\n",
       "\t<tr><th scope=row>Intercept.to.unowned</th><td>  0.970506477</td></tr>\n",
       "\t<tr><th scope=row>1layhid1.to.unowned</th><td>  0.996823409</td></tr>\n",
       "\t<tr><th scope=row>Intercept.to.owned</th><td>  1.000932694</td></tr>\n",
       "\t<tr><th scope=row>1layhid1.to.owned</th><td> -1.040014854</td></tr>\n",
       "</tbody>\n",
       "</table>\n"
      ],
      "text/latex": [
       "\\begin{tabular}{r|l}\n",
       "\terror &   0.020772441\\\\\n",
       "\treached.threshold &   0.009658347\\\\\n",
       "\tsteps & 459.000000000\\\\\n",
       "\tIntercept.to.1layhid1 &   0.379241125\\\\\n",
       "\tx.to.1layhid1 &  10.376677956\\\\\n",
       "\ty.to.1layhid1 & -14.901278933\\\\\n",
       "\tIntercept.to.unowned &   0.970506477\\\\\n",
       "\t1layhid1.to.unowned &   0.996823409\\\\\n",
       "\tIntercept.to.owned &   1.000932694\\\\\n",
       "\t1layhid1.to.owned &  -1.040014854\\\\\n",
       "\\end{tabular}\n"
      ],
      "text/markdown": [
       "\n",
       "| error |   0.020772441 | \n",
       "| reached.threshold |   0.009658347 | \n",
       "| steps | 459.000000000 | \n",
       "| Intercept.to.1layhid1 |   0.379241125 | \n",
       "| x.to.1layhid1 |  10.376677956 | \n",
       "| y.to.1layhid1 | -14.901278933 | \n",
       "| Intercept.to.unowned |   0.970506477 | \n",
       "| 1layhid1.to.unowned |   0.996823409 | \n",
       "| Intercept.to.owned |   1.000932694 | \n",
       "| 1layhid1.to.owned |  -1.040014854 | \n",
       "\n",
       "\n"
      ],
      "text/plain": [
       "                      [,1]         \n",
       "error                   0.020772441\n",
       "reached.threshold       0.009658347\n",
       "steps                 459.000000000\n",
       "Intercept.to.1layhid1   0.379241125\n",
       "x.to.1layhid1          10.376677956\n",
       "y.to.1layhid1         -14.901278933\n",
       "Intercept.to.unowned    0.970506477\n",
       "1layhid1.to.unowned     0.996823409\n",
       "Intercept.to.owned      1.000932694\n",
       "1layhid1.to.owned      -1.040014854"
      ]
     },
     "metadata": {},
     "output_type": "display_data"
    }
   ],
   "source": [
    "class_net$result.matrix"
   ]
  },
  {
   "cell_type": "code",
   "execution_count": null,
   "metadata": {},
   "outputs": [],
   "source": []
  }
 ],
 "metadata": {
  "kernelspec": {
   "display_name": "R",
   "language": "R",
   "name": "ir"
  },
  "language_info": {
   "codemirror_mode": "r",
   "file_extension": ".r",
   "mimetype": "text/x-r-source",
   "name": "R",
   "pygments_lexer": "r",
   "version": "3.5.1"
  }
 },
 "nbformat": 4,
 "nbformat_minor": 2
}
